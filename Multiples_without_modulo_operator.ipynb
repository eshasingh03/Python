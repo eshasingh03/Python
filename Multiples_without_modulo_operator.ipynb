{
 "cells": [
  {
   "cell_type": "markdown",
   "id": "370ac66b",
   "metadata": {},
   "source": [
    "# Find the number which are not the multiples of 4 without using modulo operator"
   ]
  },
  {
   "cell_type": "code",
   "execution_count": 1,
   "id": "e8599c45",
   "metadata": {},
   "outputs": [
    {
     "name": "stdout",
     "output_type": "stream",
     "text": [
      "[16, 4, 48, 72]\n"
     ]
    }
   ],
   "source": [
    "list1 = [16,3,4,6,22,17,18,48,59,72]\n",
    "list2 =[]\n",
    "for i in list1:\n",
    "    if i/4==int(i/4):\n",
    "        list2.append(i)\n",
    "print(list2)"
   ]
  }
 ],
 "metadata": {
  "kernelspec": {
   "display_name": "Python 3 (ipykernel)",
   "language": "python",
   "name": "python3"
  },
  "language_info": {
   "codemirror_mode": {
    "name": "ipython",
    "version": 3
   },
   "file_extension": ".py",
   "mimetype": "text/x-python",
   "name": "python",
   "nbconvert_exporter": "python",
   "pygments_lexer": "ipython3",
   "version": "3.11.5"
  }
 },
 "nbformat": 4,
 "nbformat_minor": 5
}
